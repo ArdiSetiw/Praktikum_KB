{
 "cells": [
  {
   "cell_type": "markdown",
   "id": "670642d3-4d94-465f-b02f-8578d4a4adcb",
   "metadata": {},
   "source": [
    "# Posttest 4 Data-Preprocessing"
   ]
  },
  {
   "cell_type": "markdown",
   "id": "a53e738a-6f94-4894-ae7b-40c003a2cf1b",
   "metadata": {},
   "source": [
    "## Import Library"
   ]
  },
  {
   "cell_type": "code",
   "execution_count": 42,
   "id": "0f86beaa-c4fa-4521-bbb3-5af1468fb570",
   "metadata": {},
   "outputs": [],
   "source": [
    "import pandas as pd\n",
    "import numpy as np\n",
    "from sklearn.model_selection import train_test_split"
   ]
  },
  {
   "cell_type": "markdown",
   "id": "61ca7e68-aa0e-4e5d-b416-c8e4731ea35d",
   "metadata": {
    "tags": []
   },
   "source": [
    "## Data Splitting"
   ]
  },
  {
   "cell_type": "code",
   "execution_count": 43,
   "id": "6337072d-ab7f-4cd1-ac9d-7df46b0873b7",
   "metadata": {},
   "outputs": [],
   "source": [
    "df_split = pd.read_csv(\"datasets_rusak.csv\")"
   ]
  },
  {
   "cell_type": "code",
   "execution_count": 44,
   "id": "39829cda-cc3a-4dc6-aa63-edec90331cdf",
   "metadata": {},
   "outputs": [],
   "source": [
    "X = df_split.iloc[:,:-1]\n",
    "y = df_split.iloc[:,-1]"
   ]
  },
  {
   "cell_type": "code",
   "execution_count": 45,
   "id": "6d9d4640-197f-446a-9545-fa7b88c39a4b",
   "metadata": {},
   "outputs": [],
   "source": [
    "X_train, X_test, y_train, y_test = train_test_split(X,y, test_size=0.3)"
   ]
  },
  {
   "cell_type": "code",
   "execution_count": 46,
   "id": "9b11bf62-efb7-457a-ab84-c4db1e09b4cb",
   "metadata": {},
   "outputs": [
    {
     "name": "stdout",
     "output_type": "stream",
     "text": [
      "Data Split\n",
      "===========================\n",
      "Dimensi X_train: (1627, 10)\n",
      "Dimensi X_test: (698, 10)\n",
      "Dimensi y_train: (1627,)\n",
      "Dimensi y_test: (698,)\n"
     ]
    }
   ],
   "source": [
    "print(\"Data Split\")\n",
    "print(\"===========================\")\n",
    "print(\"Dimensi X_train:\", X_train.shape)\n",
    "print(\"Dimensi X_test:\", X_test.shape)\n",
    "print(\"Dimensi y_train:\", y_train.shape)\n",
    "print(\"Dimensi y_test:\", y_test.shape)"
   ]
  },
  {
   "cell_type": "markdown",
   "id": "aeb412cf-f9c5-4ffa-9f06-1688674cedb8",
   "metadata": {},
   "source": [
    "### Data Transforming"
   ]
  },
  {
   "cell_type": "markdown",
   "id": "ae21f32e-f44f-4620-b607-76c54a3a4d92",
   "metadata": {},
   "source": [
    "### Normalisasi"
   ]
  },
  {
   "cell_type": "markdown",
   "id": "287e9faf-cdf3-4aff-b4fa-aae80f34168f",
   "metadata": {},
   "source": [
    "#### Import modul Normalisasi"
   ]
  },
  {
   "cell_type": "code",
   "execution_count": 47,
   "id": "90b24975-47fe-41e2-a78a-62de4d27257c",
   "metadata": {},
   "outputs": [],
   "source": [
    "from sklearn.preprocessing import MinMaxScaler"
   ]
  },
  {
   "cell_type": "code",
   "execution_count": 48,
   "id": "b8070eb5-e39a-44fa-9326-8f4ce4360747",
   "metadata": {},
   "outputs": [
    {
     "data": {
      "text/html": [
       "<div>\n",
       "<style scoped>\n",
       "    .dataframe tbody tr th:only-of-type {\n",
       "        vertical-align: middle;\n",
       "    }\n",
       "\n",
       "    .dataframe tbody tr th {\n",
       "        vertical-align: top;\n",
       "    }\n",
       "\n",
       "    .dataframe thead th {\n",
       "        text-align: right;\n",
       "    }\n",
       "</style>\n",
       "<table border=\"1\" class=\"dataframe\">\n",
       "  <thead>\n",
       "    <tr style=\"text-align: right;\">\n",
       "      <th></th>\n",
       "      <th>Unnamed: 0</th>\n",
       "      <th>price</th>\n",
       "      <th>mark</th>\n",
       "      <th>model</th>\n",
       "      <th>year</th>\n",
       "      <th>mileage</th>\n",
       "      <th>engine_capacity</th>\n",
       "      <th>transmission</th>\n",
       "      <th>drive</th>\n",
       "      <th>hand_drive</th>\n",
       "      <th>fuel</th>\n",
       "    </tr>\n",
       "  </thead>\n",
       "  <tbody>\n",
       "    <tr>\n",
       "      <th>0</th>\n",
       "      <td>0</td>\n",
       "      <td>80.0</td>\n",
       "      <td>nissan</td>\n",
       "      <td>march</td>\n",
       "      <td>2003</td>\n",
       "      <td>80000</td>\n",
       "      <td>1240</td>\n",
       "      <td>at</td>\n",
       "      <td>2wd</td>\n",
       "      <td>rhd</td>\n",
       "      <td>gasoline</td>\n",
       "    </tr>\n",
       "    <tr>\n",
       "      <th>1</th>\n",
       "      <td>1</td>\n",
       "      <td>110.0</td>\n",
       "      <td>nissan</td>\n",
       "      <td>march</td>\n",
       "      <td>2010</td>\n",
       "      <td>53000</td>\n",
       "      <td>1200</td>\n",
       "      <td>at</td>\n",
       "      <td>2wd</td>\n",
       "      <td>rhd</td>\n",
       "      <td>gasoline</td>\n",
       "    </tr>\n",
       "    <tr>\n",
       "      <th>2</th>\n",
       "      <td>2</td>\n",
       "      <td>165.0</td>\n",
       "      <td>nissan</td>\n",
       "      <td>lafesta</td>\n",
       "      <td>2005</td>\n",
       "      <td>47690</td>\n",
       "      <td>2000</td>\n",
       "      <td>at</td>\n",
       "      <td>2wd</td>\n",
       "      <td>rhd</td>\n",
       "      <td>gasoline</td>\n",
       "    </tr>\n",
       "    <tr>\n",
       "      <th>3</th>\n",
       "      <td>3</td>\n",
       "      <td>NaN</td>\n",
       "      <td>toyota</td>\n",
       "      <td>avensis</td>\n",
       "      <td>2008</td>\n",
       "      <td>130661</td>\n",
       "      <td>1990</td>\n",
       "      <td>at</td>\n",
       "      <td>2wd</td>\n",
       "      <td>rhd</td>\n",
       "      <td>gasoline</td>\n",
       "    </tr>\n",
       "    <tr>\n",
       "      <th>4</th>\n",
       "      <td>4</td>\n",
       "      <td>NaN</td>\n",
       "      <td>daihatsu</td>\n",
       "      <td>mira</td>\n",
       "      <td>2006</td>\n",
       "      <td>66300</td>\n",
       "      <td>660</td>\n",
       "      <td>at</td>\n",
       "      <td>2wd</td>\n",
       "      <td>rhd</td>\n",
       "      <td>gasoline</td>\n",
       "    </tr>\n",
       "  </tbody>\n",
       "</table>\n",
       "</div>"
      ],
      "text/plain": [
       "   Unnamed: 0  price      mark    model  year  mileage  engine_capacity  \\\n",
       "0           0   80.0    nissan    march  2003    80000             1240   \n",
       "1           1  110.0    nissan    march  2010    53000             1200   \n",
       "2           2  165.0    nissan  lafesta  2005    47690             2000   \n",
       "3           3    NaN    toyota  avensis  2008   130661             1990   \n",
       "4           4    NaN  daihatsu     mira  2006    66300              660   \n",
       "\n",
       "  transmission drive hand_drive      fuel  \n",
       "0           at   2wd        rhd  gasoline  \n",
       "1           at   2wd        rhd  gasoline  \n",
       "2           at   2wd        rhd  gasoline  \n",
       "3           at   2wd        rhd  gasoline  \n",
       "4           at   2wd        rhd  gasoline  "
      ]
     },
     "execution_count": 48,
     "metadata": {},
     "output_type": "execute_result"
    }
   ],
   "source": [
    "df_to_normal = df_split.copy()\n",
    "df_to_normal.head()"
   ]
  },
  {
   "cell_type": "code",
   "execution_count": 49,
   "id": "2716eb72-0ad6-4c4a-875b-e81bf9042101",
   "metadata": {},
   "outputs": [],
   "source": [
    "min_max_scaler = MinMaxScaler()"
   ]
  },
  {
   "cell_type": "code",
   "execution_count": 50,
   "id": "c5774cbc-993d-4d6e-90f3-06e8e11e9c79",
   "metadata": {},
   "outputs": [],
   "source": [
    "X_norm = min_max_scaler.fit_transform(\n",
    "        df_to_normal[['mileage']]\n",
    ")"
   ]
  },
  {
   "cell_type": "code",
   "execution_count": 51,
   "id": "8fda6a9f-9b22-4289-b782-a82b46f392ef",
   "metadata": {},
   "outputs": [],
   "source": [
    "df_normal = pd.DataFrame(X_norm)"
   ]
  },
  {
   "cell_type": "code",
   "execution_count": 52,
   "id": "f4572656-02d6-4e53-97fc-defc5b6877d5",
   "metadata": {},
   "outputs": [
    {
     "data": {
      "text/html": [
       "<div>\n",
       "<style scoped>\n",
       "    .dataframe tbody tr th:only-of-type {\n",
       "        vertical-align: middle;\n",
       "    }\n",
       "\n",
       "    .dataframe tbody tr th {\n",
       "        vertical-align: top;\n",
       "    }\n",
       "\n",
       "    .dataframe thead th {\n",
       "        text-align: right;\n",
       "    }\n",
       "</style>\n",
       "<table border=\"1\" class=\"dataframe\">\n",
       "  <thead>\n",
       "    <tr style=\"text-align: right;\">\n",
       "      <th></th>\n",
       "      <th>0</th>\n",
       "    </tr>\n",
       "  </thead>\n",
       "  <tbody>\n",
       "    <tr>\n",
       "      <th>0</th>\n",
       "      <td>0.098985</td>\n",
       "    </tr>\n",
       "    <tr>\n",
       "      <th>1</th>\n",
       "      <td>0.064721</td>\n",
       "    </tr>\n",
       "    <tr>\n",
       "      <th>2</th>\n",
       "      <td>0.057982</td>\n",
       "    </tr>\n",
       "    <tr>\n",
       "      <th>3</th>\n",
       "      <td>0.163275</td>\n",
       "    </tr>\n",
       "    <tr>\n",
       "      <th>4</th>\n",
       "      <td>0.081599</td>\n",
       "    </tr>\n",
       "  </tbody>\n",
       "</table>\n",
       "</div>"
      ],
      "text/plain": [
       "          0\n",
       "0  0.098985\n",
       "1  0.064721\n",
       "2  0.057982\n",
       "3  0.163275\n",
       "4  0.081599"
      ]
     },
     "execution_count": 52,
     "metadata": {},
     "output_type": "execute_result"
    }
   ],
   "source": [
    "df_normal.head()"
   ]
  },
  {
   "cell_type": "markdown",
   "id": "dd611c4b-2e74-455a-8529-bbcece6f3691",
   "metadata": {},
   "source": [
    "### Standarisasi"
   ]
  },
  {
   "cell_type": "markdown",
   "id": "eddc6774-7349-4793-9dcd-e3f3b5b06c05",
   "metadata": {},
   "source": [
    "#### Import modul Standarisasi"
   ]
  },
  {
   "cell_type": "code",
   "execution_count": 53,
   "id": "3ce88368-4d09-4516-b366-4335d19dfc6f",
   "metadata": {},
   "outputs": [],
   "source": [
    "from sklearn.preprocessing import StandardScaler"
   ]
  },
  {
   "cell_type": "code",
   "execution_count": 54,
   "id": "03b5acbe-7a2f-437a-b032-cb0b262f987d",
   "metadata": {},
   "outputs": [
    {
     "data": {
      "text/html": [
       "<div>\n",
       "<style scoped>\n",
       "    .dataframe tbody tr th:only-of-type {\n",
       "        vertical-align: middle;\n",
       "    }\n",
       "\n",
       "    .dataframe tbody tr th {\n",
       "        vertical-align: top;\n",
       "    }\n",
       "\n",
       "    .dataframe thead th {\n",
       "        text-align: right;\n",
       "    }\n",
       "</style>\n",
       "<table border=\"1\" class=\"dataframe\">\n",
       "  <thead>\n",
       "    <tr style=\"text-align: right;\">\n",
       "      <th></th>\n",
       "      <th>Unnamed: 0</th>\n",
       "      <th>price</th>\n",
       "      <th>mark</th>\n",
       "      <th>model</th>\n",
       "      <th>year</th>\n",
       "      <th>mileage</th>\n",
       "      <th>engine_capacity</th>\n",
       "      <th>transmission</th>\n",
       "      <th>drive</th>\n",
       "      <th>hand_drive</th>\n",
       "      <th>fuel</th>\n",
       "    </tr>\n",
       "  </thead>\n",
       "  <tbody>\n",
       "    <tr>\n",
       "      <th>0</th>\n",
       "      <td>0</td>\n",
       "      <td>80.0</td>\n",
       "      <td>nissan</td>\n",
       "      <td>march</td>\n",
       "      <td>2003</td>\n",
       "      <td>80000</td>\n",
       "      <td>1240</td>\n",
       "      <td>at</td>\n",
       "      <td>2wd</td>\n",
       "      <td>rhd</td>\n",
       "      <td>gasoline</td>\n",
       "    </tr>\n",
       "    <tr>\n",
       "      <th>1</th>\n",
       "      <td>1</td>\n",
       "      <td>110.0</td>\n",
       "      <td>nissan</td>\n",
       "      <td>march</td>\n",
       "      <td>2010</td>\n",
       "      <td>53000</td>\n",
       "      <td>1200</td>\n",
       "      <td>at</td>\n",
       "      <td>2wd</td>\n",
       "      <td>rhd</td>\n",
       "      <td>gasoline</td>\n",
       "    </tr>\n",
       "    <tr>\n",
       "      <th>2</th>\n",
       "      <td>2</td>\n",
       "      <td>165.0</td>\n",
       "      <td>nissan</td>\n",
       "      <td>lafesta</td>\n",
       "      <td>2005</td>\n",
       "      <td>47690</td>\n",
       "      <td>2000</td>\n",
       "      <td>at</td>\n",
       "      <td>2wd</td>\n",
       "      <td>rhd</td>\n",
       "      <td>gasoline</td>\n",
       "    </tr>\n",
       "    <tr>\n",
       "      <th>3</th>\n",
       "      <td>3</td>\n",
       "      <td>NaN</td>\n",
       "      <td>toyota</td>\n",
       "      <td>avensis</td>\n",
       "      <td>2008</td>\n",
       "      <td>130661</td>\n",
       "      <td>1990</td>\n",
       "      <td>at</td>\n",
       "      <td>2wd</td>\n",
       "      <td>rhd</td>\n",
       "      <td>gasoline</td>\n",
       "    </tr>\n",
       "    <tr>\n",
       "      <th>4</th>\n",
       "      <td>4</td>\n",
       "      <td>NaN</td>\n",
       "      <td>daihatsu</td>\n",
       "      <td>mira</td>\n",
       "      <td>2006</td>\n",
       "      <td>66300</td>\n",
       "      <td>660</td>\n",
       "      <td>at</td>\n",
       "      <td>2wd</td>\n",
       "      <td>rhd</td>\n",
       "      <td>gasoline</td>\n",
       "    </tr>\n",
       "  </tbody>\n",
       "</table>\n",
       "</div>"
      ],
      "text/plain": [
       "   Unnamed: 0  price      mark    model  year  mileage  engine_capacity  \\\n",
       "0           0   80.0    nissan    march  2003    80000             1240   \n",
       "1           1  110.0    nissan    march  2010    53000             1200   \n",
       "2           2  165.0    nissan  lafesta  2005    47690             2000   \n",
       "3           3    NaN    toyota  avensis  2008   130661             1990   \n",
       "4           4    NaN  daihatsu     mira  2006    66300              660   \n",
       "\n",
       "  transmission drive hand_drive      fuel  \n",
       "0           at   2wd        rhd  gasoline  \n",
       "1           at   2wd        rhd  gasoline  \n",
       "2           at   2wd        rhd  gasoline  \n",
       "3           at   2wd        rhd  gasoline  \n",
       "4           at   2wd        rhd  gasoline  "
      ]
     },
     "execution_count": 54,
     "metadata": {},
     "output_type": "execute_result"
    }
   ],
   "source": [
    "df_to_standar = df_split.copy()\n",
    "df_to_standar.head()"
   ]
  },
  {
   "cell_type": "code",
   "execution_count": 55,
   "id": "4e5306fa-7cfa-44cf-83b5-469de5cabe02",
   "metadata": {},
   "outputs": [],
   "source": [
    "standar_scaler = StandardScaler()"
   ]
  },
  {
   "cell_type": "code",
   "execution_count": 56,
   "id": "d3d66a0d-dfd3-458d-85f4-9360fc78b01e",
   "metadata": {},
   "outputs": [
    {
     "name": "stdout",
     "output_type": "stream",
     "text": [
      "Sebelum di standarisasi\n",
      "Standar Deviasi :Unnamed: 0           676.220523\n",
      "price                288.250772\n",
      "year                   3.708029\n",
      "mileage            52502.081591\n",
      "engine_capacity      550.716359\n",
      "dtype: float64\n"
     ]
    },
    {
     "name": "stderr",
     "output_type": "stream",
     "text": [
      "C:\\Users\\Ardi Setyiawan\\AppData\\Local\\Temp\\ipykernel_15072\\2029205022.py:2: FutureWarning: The default value of numeric_only in DataFrame.std is deprecated. In a future version, it will default to False. In addition, specifying 'numeric_only=None' is deprecated. Select only valid columns or specify the value of numeric_only to silence this warning.\n",
      "  print(\"Standar Deviasi :\"+str(df_to_standar.std()))\n"
     ]
    }
   ],
   "source": [
    "print(\"Sebelum di standarisasi\")\n",
    "print(\"Standar Deviasi :\"+str(df_to_standar.std()))"
   ]
  },
  {
   "cell_type": "code",
   "execution_count": 57,
   "id": "39dceff0-a516-418d-ae99-4d477cb2ac1a",
   "metadata": {},
   "outputs": [],
   "source": [
    "X_standar = standar_scaler.fit_transform(\n",
    "    df_to_standar[['price','year','mileage','engine_capacity']])"
   ]
  },
  {
   "cell_type": "code",
   "execution_count": 58,
   "id": "5c277e6f-22fe-4dff-8fc8-622210333343",
   "metadata": {},
   "outputs": [],
   "source": [
    "df_standar = pd.DataFrame(X_standar)"
   ]
  },
  {
   "cell_type": "code",
   "execution_count": 59,
   "id": "5ee0ecf9-fe57-4a68-b20f-761be2fa8674",
   "metadata": {},
   "outputs": [
    {
     "name": "stdout",
     "output_type": "stream",
     "text": [
      "Setelah distandarisasi\n",
      "          0         1         2         3\n",
      "0 -3.093558 -0.806677 -0.378459 -0.480315\n",
      "1 -2.989460  1.081525 -0.892835 -0.552964\n",
      "2 -2.798612 -0.267191 -0.993996  0.900002\n",
      "3       NaN  0.542039  0.586681  0.881840\n",
      "4       NaN  0.002552 -0.639457 -1.533716\n",
      "Standar Deviasi : \n",
      "0    1.000216\n",
      "1    1.000215\n",
      "2    1.000215\n",
      "3    1.000215\n",
      "dtype: float64\n"
     ]
    }
   ],
   "source": [
    "print(\"Setelah distandarisasi\")\n",
    "print(df_standar.head())\n",
    "print(\"Standar Deviasi :\", \"\\n\"+str(df_standar.std()))"
   ]
  },
  {
   "cell_type": "markdown",
   "id": "130a8332-5c1e-488d-8b15-b4a58e4b7424",
   "metadata": {},
   "source": [
    "## Data Cleaning"
   ]
  },
  {
   "cell_type": "code",
   "execution_count": 60,
   "id": "45e768aa-98ef-42a6-8238-4172b8616ebc",
   "metadata": {
    "tags": []
   },
   "outputs": [
    {
     "data": {
      "text/plain": [
       "Unnamed: 0         0\n",
       "price              6\n",
       "mark               0\n",
       "model              0\n",
       "year               0\n",
       "mileage            0\n",
       "engine_capacity    0\n",
       "transmission       0\n",
       "drive              0\n",
       "hand_drive         0\n",
       "fuel               0\n",
       "dtype: int64"
      ]
     },
     "execution_count": 60,
     "metadata": {},
     "output_type": "execute_result"
    }
   ],
   "source": [
    "df_rusak = pd.read_csv('datasets_rusak.csv')\n",
    "df_rusak.isna().sum()"
   ]
  },
  {
   "cell_type": "code",
   "execution_count": 61,
   "id": "1e69dcad-2f38-4d6e-8dbd-e46bd637663b",
   "metadata": {},
   "outputs": [
    {
     "data": {
      "text/plain": [
       "7"
      ]
     },
     "execution_count": 61,
     "metadata": {},
     "output_type": "execute_result"
    }
   ],
   "source": [
    "df_rusak.duplicated().sum()"
   ]
  },
  {
   "cell_type": "markdown",
   "id": "7c0a5f71-8c06-446a-bfef-6d39f0bb5e97",
   "metadata": {},
   "source": [
    "### Mengsubstitusi NULL dengan nilai Modus"
   ]
  },
  {
   "cell_type": "code",
   "execution_count": 62,
   "id": "add12cfd-bfa3-4db3-91b5-156d2b34d3a1",
   "metadata": {},
   "outputs": [],
   "source": [
    "from sklearn.impute import SimpleImputer"
   ]
  },
  {
   "cell_type": "code",
   "execution_count": 63,
   "id": "1d11d023-c50a-44e7-9fa9-a0109a569a48",
   "metadata": {},
   "outputs": [],
   "source": [
    "imputer = SimpleImputer(strategy='most_frequent')"
   ]
  },
  {
   "cell_type": "code",
   "execution_count": 64,
   "id": "cd2446a2-87d3-44e5-89df-2c97b9110224",
   "metadata": {},
   "outputs": [],
   "source": [
    "df_rusak['price'] = imputer.fit_transform(df_rusak[['price']])"
   ]
  },
  {
   "cell_type": "code",
   "execution_count": 65,
   "id": "4cfafc95-8331-4c9a-8cbe-df26dbf60862",
   "metadata": {},
   "outputs": [
    {
     "data": {
      "text/plain": [
       "Unnamed: 0         0\n",
       "price              0\n",
       "mark               0\n",
       "model              0\n",
       "year               0\n",
       "mileage            0\n",
       "engine_capacity    0\n",
       "transmission       0\n",
       "drive              0\n",
       "hand_drive         0\n",
       "fuel               0\n",
       "dtype: int64"
      ]
     },
     "execution_count": 65,
     "metadata": {},
     "output_type": "execute_result"
    }
   ],
   "source": [
    "df_rusak.isna().sum()"
   ]
  },
  {
   "cell_type": "markdown",
   "id": "11f80f01-1838-4182-9071-b954e50fabee",
   "metadata": {},
   "source": [
    "### Menghapus Duplikat"
   ]
  },
  {
   "cell_type": "code",
   "execution_count": 66,
   "id": "36b26906-84b3-4e64-b507-873f37e14a41",
   "metadata": {},
   "outputs": [
    {
     "data": {
      "text/html": [
       "<div>\n",
       "<style scoped>\n",
       "    .dataframe tbody tr th:only-of-type {\n",
       "        vertical-align: middle;\n",
       "    }\n",
       "\n",
       "    .dataframe tbody tr th {\n",
       "        vertical-align: top;\n",
       "    }\n",
       "\n",
       "    .dataframe thead th {\n",
       "        text-align: right;\n",
       "    }\n",
       "</style>\n",
       "<table border=\"1\" class=\"dataframe\">\n",
       "  <thead>\n",
       "    <tr style=\"text-align: right;\">\n",
       "      <th></th>\n",
       "      <th>Unnamed: 0</th>\n",
       "      <th>price</th>\n",
       "      <th>mark</th>\n",
       "      <th>model</th>\n",
       "      <th>year</th>\n",
       "      <th>mileage</th>\n",
       "      <th>engine_capacity</th>\n",
       "      <th>transmission</th>\n",
       "      <th>drive</th>\n",
       "      <th>hand_drive</th>\n",
       "      <th>fuel</th>\n",
       "    </tr>\n",
       "  </thead>\n",
       "  <tbody>\n",
       "    <tr>\n",
       "      <th>51</th>\n",
       "      <td>52</td>\n",
       "      <td>350.0</td>\n",
       "      <td>daihatsu</td>\n",
       "      <td>mira</td>\n",
       "      <td>2012</td>\n",
       "      <td>51000</td>\n",
       "      <td>660</td>\n",
       "      <td>at</td>\n",
       "      <td>2wd</td>\n",
       "      <td>rhd</td>\n",
       "      <td>gasoline</td>\n",
       "    </tr>\n",
       "    <tr>\n",
       "      <th>52</th>\n",
       "      <td>52</td>\n",
       "      <td>350.0</td>\n",
       "      <td>daihatsu</td>\n",
       "      <td>mira</td>\n",
       "      <td>2012</td>\n",
       "      <td>51000</td>\n",
       "      <td>660</td>\n",
       "      <td>at</td>\n",
       "      <td>2wd</td>\n",
       "      <td>rhd</td>\n",
       "      <td>gasoline</td>\n",
       "    </tr>\n",
       "    <tr>\n",
       "      <th>53</th>\n",
       "      <td>52</td>\n",
       "      <td>350.0</td>\n",
       "      <td>daihatsu</td>\n",
       "      <td>mira</td>\n",
       "      <td>2012</td>\n",
       "      <td>51000</td>\n",
       "      <td>660</td>\n",
       "      <td>at</td>\n",
       "      <td>2wd</td>\n",
       "      <td>rhd</td>\n",
       "      <td>gasoline</td>\n",
       "    </tr>\n",
       "    <tr>\n",
       "      <th>54</th>\n",
       "      <td>52</td>\n",
       "      <td>350.0</td>\n",
       "      <td>daihatsu</td>\n",
       "      <td>mira</td>\n",
       "      <td>2012</td>\n",
       "      <td>51000</td>\n",
       "      <td>660</td>\n",
       "      <td>at</td>\n",
       "      <td>2wd</td>\n",
       "      <td>rhd</td>\n",
       "      <td>gasoline</td>\n",
       "    </tr>\n",
       "    <tr>\n",
       "      <th>55</th>\n",
       "      <td>52</td>\n",
       "      <td>350.0</td>\n",
       "      <td>daihatsu</td>\n",
       "      <td>mira</td>\n",
       "      <td>2012</td>\n",
       "      <td>51000</td>\n",
       "      <td>660</td>\n",
       "      <td>at</td>\n",
       "      <td>2wd</td>\n",
       "      <td>rhd</td>\n",
       "      <td>gasoline</td>\n",
       "    </tr>\n",
       "    <tr>\n",
       "      <th>56</th>\n",
       "      <td>52</td>\n",
       "      <td>350.0</td>\n",
       "      <td>daihatsu</td>\n",
       "      <td>mira</td>\n",
       "      <td>2012</td>\n",
       "      <td>51000</td>\n",
       "      <td>660</td>\n",
       "      <td>at</td>\n",
       "      <td>2wd</td>\n",
       "      <td>rhd</td>\n",
       "      <td>gasoline</td>\n",
       "    </tr>\n",
       "    <tr>\n",
       "      <th>57</th>\n",
       "      <td>52</td>\n",
       "      <td>350.0</td>\n",
       "      <td>daihatsu</td>\n",
       "      <td>mira</td>\n",
       "      <td>2012</td>\n",
       "      <td>51000</td>\n",
       "      <td>660</td>\n",
       "      <td>at</td>\n",
       "      <td>2wd</td>\n",
       "      <td>rhd</td>\n",
       "      <td>gasoline</td>\n",
       "    </tr>\n",
       "  </tbody>\n",
       "</table>\n",
       "</div>"
      ],
      "text/plain": [
       "    Unnamed: 0  price      mark model  year  mileage  engine_capacity  \\\n",
       "51          52  350.0  daihatsu  mira  2012    51000              660   \n",
       "52          52  350.0  daihatsu  mira  2012    51000              660   \n",
       "53          52  350.0  daihatsu  mira  2012    51000              660   \n",
       "54          52  350.0  daihatsu  mira  2012    51000              660   \n",
       "55          52  350.0  daihatsu  mira  2012    51000              660   \n",
       "56          52  350.0  daihatsu  mira  2012    51000              660   \n",
       "57          52  350.0  daihatsu  mira  2012    51000              660   \n",
       "\n",
       "   transmission drive hand_drive      fuel  \n",
       "51           at   2wd        rhd  gasoline  \n",
       "52           at   2wd        rhd  gasoline  \n",
       "53           at   2wd        rhd  gasoline  \n",
       "54           at   2wd        rhd  gasoline  \n",
       "55           at   2wd        rhd  gasoline  \n",
       "56           at   2wd        rhd  gasoline  \n",
       "57           at   2wd        rhd  gasoline  "
      ]
     },
     "execution_count": 66,
     "metadata": {},
     "output_type": "execute_result"
    }
   ],
   "source": [
    "df_rusak[df_rusak.duplicated()]"
   ]
  },
  {
   "cell_type": "code",
   "execution_count": 67,
   "id": "1084a44a-6388-48df-9318-8a2f9385a94f",
   "metadata": {},
   "outputs": [],
   "source": [
    "df_rusak.drop_duplicates(inplace=True)"
   ]
  },
  {
   "cell_type": "code",
   "execution_count": 68,
   "id": "e2eb2046-daeb-4a7a-8c60-809519992e50",
   "metadata": {},
   "outputs": [
    {
     "data": {
      "text/html": [
       "<div>\n",
       "<style scoped>\n",
       "    .dataframe tbody tr th:only-of-type {\n",
       "        vertical-align: middle;\n",
       "    }\n",
       "\n",
       "    .dataframe tbody tr th {\n",
       "        vertical-align: top;\n",
       "    }\n",
       "\n",
       "    .dataframe thead th {\n",
       "        text-align: right;\n",
       "    }\n",
       "</style>\n",
       "<table border=\"1\" class=\"dataframe\">\n",
       "  <thead>\n",
       "    <tr style=\"text-align: right;\">\n",
       "      <th></th>\n",
       "      <th>Unnamed: 0</th>\n",
       "      <th>price</th>\n",
       "      <th>mark</th>\n",
       "      <th>model</th>\n",
       "      <th>year</th>\n",
       "      <th>mileage</th>\n",
       "      <th>engine_capacity</th>\n",
       "      <th>transmission</th>\n",
       "      <th>drive</th>\n",
       "      <th>hand_drive</th>\n",
       "      <th>fuel</th>\n",
       "    </tr>\n",
       "  </thead>\n",
       "  <tbody>\n",
       "  </tbody>\n",
       "</table>\n",
       "</div>"
      ],
      "text/plain": [
       "Empty DataFrame\n",
       "Columns: [Unnamed: 0, price, mark, model, year, mileage, engine_capacity, transmission, drive, hand_drive, fuel]\n",
       "Index: []"
      ]
     },
     "execution_count": 68,
     "metadata": {},
     "output_type": "execute_result"
    }
   ],
   "source": [
    "df_rusak[df_rusak.duplicated()]"
   ]
  },
  {
   "cell_type": "markdown",
   "id": "e853d32b-17a0-4225-8aa8-4f3cd63ac516",
   "metadata": {},
   "source": [
    "## Mengganti tipe data"
   ]
  },
  {
   "cell_type": "code",
   "execution_count": 69,
   "id": "5758b25b-b0d4-4cf4-a432-60ecf6cac941",
   "metadata": {},
   "outputs": [
    {
     "data": {
      "text/plain": [
       "Unnamed: 0           int64\n",
       "price              float64\n",
       "mark                object\n",
       "model               object\n",
       "year                 int64\n",
       "mileage              int64\n",
       "engine_capacity      int64\n",
       "transmission        object\n",
       "drive               object\n",
       "hand_drive          object\n",
       "fuel                object\n",
       "dtype: object"
      ]
     },
     "execution_count": 69,
     "metadata": {},
     "output_type": "execute_result"
    }
   ],
   "source": [
    "df_rusak.dtypes"
   ]
  },
  {
   "cell_type": "code",
   "execution_count": 70,
   "id": "a61292d8-46a3-4853-8418-71df263c0bf1",
   "metadata": {},
   "outputs": [],
   "source": [
    "df_rusak['mileage'] = df_rusak['mileage'].astype(float)"
   ]
  },
  {
   "cell_type": "code",
   "execution_count": 71,
   "id": "d689bd85-e633-41f5-a819-ce73397dae9a",
   "metadata": {},
   "outputs": [
    {
     "data": {
      "text/plain": [
       "Unnamed: 0           int64\n",
       "price              float64\n",
       "mark                object\n",
       "model               object\n",
       "year                 int64\n",
       "mileage            float64\n",
       "engine_capacity      int64\n",
       "transmission        object\n",
       "drive               object\n",
       "hand_drive          object\n",
       "fuel                object\n",
       "dtype: object"
      ]
     },
     "execution_count": 71,
     "metadata": {},
     "output_type": "execute_result"
    }
   ],
   "source": [
    "df_rusak.dtypes"
   ]
  },
  {
   "cell_type": "markdown",
   "id": "77c07a39-1492-4415-b1bf-3edf27b208c3",
   "metadata": {},
   "source": [
    "## One Hot Encoding"
   ]
  },
  {
   "cell_type": "code",
   "execution_count": 72,
   "id": "dede5f0d-4f07-4c57-b4d5-0e8c1f413d27",
   "metadata": {},
   "outputs": [],
   "source": [
    "from sklearn.preprocessing import OneHotEncoder"
   ]
  },
  {
   "cell_type": "code",
   "execution_count": 73,
   "id": "428533ee-8713-4f05-b77f-74bf7d628f3b",
   "metadata": {},
   "outputs": [],
   "source": [
    "encoder = OneHotEncoder(sparse=False)"
   ]
  },
  {
   "cell_type": "code",
   "execution_count": 74,
   "id": "c58cd561-095e-40d7-a674-40bd375b0cfc",
   "metadata": {},
   "outputs": [],
   "source": [
    "encoded = encoder.fit_transform(df_rusak[['transmission']])"
   ]
  },
  {
   "cell_type": "code",
   "execution_count": 75,
   "id": "a36ccbc5-e172-401e-811f-52fcb83c250a",
   "metadata": {},
   "outputs": [],
   "source": [
    "df_onehot = pd.DataFrame(encoded)"
   ]
  },
  {
   "cell_type": "code",
   "execution_count": 76,
   "id": "b50d2c5b-829f-47ff-af21-30af3aa34818",
   "metadata": {},
   "outputs": [],
   "source": [
    "df_rusak = df_rusak.join(df_onehot)"
   ]
  },
  {
   "cell_type": "code",
   "execution_count": 77,
   "id": "35a53ac1-54da-4a7b-a284-f01a9a6059a1",
   "metadata": {},
   "outputs": [
    {
     "data": {
      "text/html": [
       "<div>\n",
       "<style scoped>\n",
       "    .dataframe tbody tr th:only-of-type {\n",
       "        vertical-align: middle;\n",
       "    }\n",
       "\n",
       "    .dataframe tbody tr th {\n",
       "        vertical-align: top;\n",
       "    }\n",
       "\n",
       "    .dataframe thead th {\n",
       "        text-align: right;\n",
       "    }\n",
       "</style>\n",
       "<table border=\"1\" class=\"dataframe\">\n",
       "  <thead>\n",
       "    <tr style=\"text-align: right;\">\n",
       "      <th></th>\n",
       "      <th>Unnamed: 0</th>\n",
       "      <th>price</th>\n",
       "      <th>mark</th>\n",
       "      <th>model</th>\n",
       "      <th>year</th>\n",
       "      <th>mileage</th>\n",
       "      <th>engine_capacity</th>\n",
       "      <th>transmission</th>\n",
       "      <th>drive</th>\n",
       "      <th>hand_drive</th>\n",
       "      <th>fuel</th>\n",
       "      <th>0</th>\n",
       "      <th>1</th>\n",
       "      <th>2</th>\n",
       "    </tr>\n",
       "  </thead>\n",
       "  <tbody>\n",
       "    <tr>\n",
       "      <th>0</th>\n",
       "      <td>0</td>\n",
       "      <td>80.0</td>\n",
       "      <td>nissan</td>\n",
       "      <td>march</td>\n",
       "      <td>2003</td>\n",
       "      <td>80000.0</td>\n",
       "      <td>1240</td>\n",
       "      <td>at</td>\n",
       "      <td>2wd</td>\n",
       "      <td>rhd</td>\n",
       "      <td>gasoline</td>\n",
       "      <td>1.0</td>\n",
       "      <td>0.0</td>\n",
       "      <td>0.0</td>\n",
       "    </tr>\n",
       "    <tr>\n",
       "      <th>1</th>\n",
       "      <td>1</td>\n",
       "      <td>110.0</td>\n",
       "      <td>nissan</td>\n",
       "      <td>march</td>\n",
       "      <td>2010</td>\n",
       "      <td>53000.0</td>\n",
       "      <td>1200</td>\n",
       "      <td>at</td>\n",
       "      <td>2wd</td>\n",
       "      <td>rhd</td>\n",
       "      <td>gasoline</td>\n",
       "      <td>1.0</td>\n",
       "      <td>0.0</td>\n",
       "      <td>0.0</td>\n",
       "    </tr>\n",
       "    <tr>\n",
       "      <th>2</th>\n",
       "      <td>2</td>\n",
       "      <td>165.0</td>\n",
       "      <td>nissan</td>\n",
       "      <td>lafesta</td>\n",
       "      <td>2005</td>\n",
       "      <td>47690.0</td>\n",
       "      <td>2000</td>\n",
       "      <td>at</td>\n",
       "      <td>2wd</td>\n",
       "      <td>rhd</td>\n",
       "      <td>gasoline</td>\n",
       "      <td>1.0</td>\n",
       "      <td>0.0</td>\n",
       "      <td>0.0</td>\n",
       "    </tr>\n",
       "    <tr>\n",
       "      <th>3</th>\n",
       "      <td>3</td>\n",
       "      <td>850.0</td>\n",
       "      <td>toyota</td>\n",
       "      <td>avensis</td>\n",
       "      <td>2008</td>\n",
       "      <td>130661.0</td>\n",
       "      <td>1990</td>\n",
       "      <td>at</td>\n",
       "      <td>2wd</td>\n",
       "      <td>rhd</td>\n",
       "      <td>gasoline</td>\n",
       "      <td>1.0</td>\n",
       "      <td>0.0</td>\n",
       "      <td>0.0</td>\n",
       "    </tr>\n",
       "    <tr>\n",
       "      <th>4</th>\n",
       "      <td>4</td>\n",
       "      <td>850.0</td>\n",
       "      <td>daihatsu</td>\n",
       "      <td>mira</td>\n",
       "      <td>2006</td>\n",
       "      <td>66300.0</td>\n",
       "      <td>660</td>\n",
       "      <td>at</td>\n",
       "      <td>2wd</td>\n",
       "      <td>rhd</td>\n",
       "      <td>gasoline</td>\n",
       "      <td>1.0</td>\n",
       "      <td>0.0</td>\n",
       "      <td>0.0</td>\n",
       "    </tr>\n",
       "  </tbody>\n",
       "</table>\n",
       "</div>"
      ],
      "text/plain": [
       "   Unnamed: 0  price      mark    model  year   mileage  engine_capacity  \\\n",
       "0           0   80.0    nissan    march  2003   80000.0             1240   \n",
       "1           1  110.0    nissan    march  2010   53000.0             1200   \n",
       "2           2  165.0    nissan  lafesta  2005   47690.0             2000   \n",
       "3           3  850.0    toyota  avensis  2008  130661.0             1990   \n",
       "4           4  850.0  daihatsu     mira  2006   66300.0              660   \n",
       "\n",
       "  transmission drive hand_drive      fuel    0    1    2  \n",
       "0           at   2wd        rhd  gasoline  1.0  0.0  0.0  \n",
       "1           at   2wd        rhd  gasoline  1.0  0.0  0.0  \n",
       "2           at   2wd        rhd  gasoline  1.0  0.0  0.0  \n",
       "3           at   2wd        rhd  gasoline  1.0  0.0  0.0  \n",
       "4           at   2wd        rhd  gasoline  1.0  0.0  0.0  "
      ]
     },
     "execution_count": 77,
     "metadata": {},
     "output_type": "execute_result"
    }
   ],
   "source": [
    "df_rusak.head()"
   ]
  }
 ],
 "metadata": {
  "kernelspec": {
   "display_name": "Python 3 (ipykernel)",
   "language": "python",
   "name": "python3"
  },
  "language_info": {
   "codemirror_mode": {
    "name": "ipython",
    "version": 3
   },
   "file_extension": ".py",
   "mimetype": "text/x-python",
   "name": "python",
   "nbconvert_exporter": "python",
   "pygments_lexer": "ipython3",
   "version": "3.10.7"
  }
 },
 "nbformat": 4,
 "nbformat_minor": 5
}
