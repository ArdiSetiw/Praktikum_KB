{
 "cells": [
  {
   "cell_type": "markdown",
   "id": "4865f467-b79e-44c4-9bc9-b5ba274230ec",
   "metadata": {},
   "source": [
    "# Posttest 7 Pengenalan Tensorflow"
   ]
  },
  {
   "cell_type": "markdown",
   "id": "7de9122b-6020-4097-bc78-dbe1aa622b03",
   "metadata": {},
   "source": [
    "## Import tensorflow"
   ]
  },
  {
   "cell_type": "code",
   "execution_count": 1,
   "id": "f8a0e799-bd5d-440b-9289-6f4a4c4ecaaa",
   "metadata": {},
   "outputs": [],
   "source": [
    "import tensorflow as tf"
   ]
  },
  {
   "cell_type": "markdown",
   "id": "dde5cdeb-e2ec-4323-a574-f4149e3dfc10",
   "metadata": {},
   "source": [
    "## Membuat Tensor dengan nilai random"
   ]
  },
  {
   "cell_type": "code",
   "execution_count": 2,
   "id": "e1c13fa6-994d-4965-956e-d05cb9f8e14d",
   "metadata": {},
   "outputs": [
    {
     "name": "stdout",
     "output_type": "stream",
     "text": [
      "tf.Tensor(\n",
      "[[-0.8113182   1.4845988   0.06532937 -2.4427042   0.0992484 ]\n",
      " [ 0.5912243   0.59282297 -2.1229296  -0.72289723 -0.05627038]\n",
      " [ 0.6435448  -0.26432407  1.8566332   0.5678417  -0.3828359 ]\n",
      " [-1.4853433   1.2617711  -0.02530608 -0.2646297   1.5328138 ]\n",
      " [-1.7429771  -0.43789294 -0.56601     0.32066926  1.132831  ]], shape=(5, 5), dtype=float32)\n"
     ]
    }
   ],
   "source": [
    "random_tensor = tf.random.normal([5,5],seed=1)\n",
    "print(random_tensor)"
   ]
  },
  {
   "cell_type": "markdown",
   "id": "3e76649f-1491-4280-b169-280f6236eaf9",
   "metadata": {},
   "source": [
    "## Membuat Tensor dengan nilai bilangan prima"
   ]
  },
  {
   "cell_type": "code",
   "execution_count": 3,
   "id": "2d086582-44c2-42fb-8fd1-6309ca5a6f94",
   "metadata": {},
   "outputs": [
    {
     "name": "stdout",
     "output_type": "stream",
     "text": [
      "tf.Tensor(\n",
      "[[ 2.  3.  5.  7. 11.]\n",
      " [13. 17. 19. 23. 29.]\n",
      " [31. 37. 41. 43. 47.]\n",
      " [53. 59. 61. 67. 71.]\n",
      " [73. 79. 83. 89. 97.]], shape=(5, 5), dtype=float32)\n"
     ]
    }
   ],
   "source": [
    "prime_num = [[2, 3, 5, 7, 11], \n",
    "             [13, 17, 19, 23, 29], \n",
    "             [31, 37, 41, 43, 47], \n",
    "             [53, 59, 61, 67, 71], \n",
    "             [73, 79, 83, 89, 97]]\n",
    "\n",
    "prime_tensor = tf.convert_to_tensor(prime_num,dtype=tf.float32)\n",
    "print(prime_tensor)"
   ]
  },
  {
   "cell_type": "markdown",
   "id": "5b4308bc-6fe8-4ac4-b1da-cbb8aa61e3e2",
   "metadata": {},
   "source": [
    "## Menampilkan Dimensi"
   ]
  },
  {
   "cell_type": "code",
   "execution_count": 4,
   "id": "91ba5779-4f22-4f87-9670-e7633f0f0511",
   "metadata": {},
   "outputs": [
    {
     "name": "stdout",
     "output_type": "stream",
     "text": [
      "Dimensi Variabel\n",
      "random_tensor Dimensi : (5, 5)\n",
      "prime_tensor Dimensi : (5, 5)\n"
     ]
    }
   ],
   "source": [
    "print(\"Dimensi Variabel\")\n",
    "print(\"random_tensor Dimensi :\",random_tensor.shape)\n",
    "print(\"prime_tensor Dimensi :\",prime_tensor.shape)"
   ]
  },
  {
   "cell_type": "markdown",
   "id": "346ee231-7c7a-4f74-b88a-9df409923f27",
   "metadata": {},
   "source": [
    "## Perhitungan Aritmetika"
   ]
  },
  {
   "cell_type": "markdown",
   "id": "396a14ed-a509-4b42-84bb-704a933f9029",
   "metadata": {},
   "source": [
    "### Penjumlahan"
   ]
  },
  {
   "cell_type": "code",
   "execution_count": 5,
   "id": "cff5ac56-1aab-4fa6-88ea-09bb10407bc1",
   "metadata": {},
   "outputs": [
    {
     "name": "stdout",
     "output_type": "stream",
     "text": [
      "random_tensor + prime_tensor =\n",
      "tf.Tensor(\n",
      "[[ 1.1886818  4.4845986  5.0653296  4.557296  11.099248 ]\n",
      " [13.591225  17.592823  16.877071  22.277103  28.94373  ]\n",
      " [31.643545  36.735676  42.856632  43.56784   46.617165 ]\n",
      " [51.514656  60.261772  60.974693  66.73537   72.532814 ]\n",
      " [71.25702   78.5621    82.43399   89.32067   98.13283  ]], shape=(5, 5), dtype=float32)\n"
     ]
    }
   ],
   "source": [
    "print(\"random_tensor + prime_tensor =\")\n",
    "print(tf.add(random_tensor,prime_tensor))"
   ]
  },
  {
   "cell_type": "markdown",
   "id": "5920b8ff-8992-465e-a76f-64c6039f8c59",
   "metadata": {},
   "source": [
    "### Pengurangan"
   ]
  },
  {
   "cell_type": "code",
   "execution_count": 6,
   "id": "ba0c06c4-6226-4c49-8069-e5f3d587c13e",
   "metadata": {},
   "outputs": [
    {
     "name": "stdout",
     "output_type": "stream",
     "text": [
      "random_tensor - prime_tensor =\n",
      "tf.Tensor(\n",
      "[[ -2.8113182  -1.5154012  -4.9346704  -9.442704  -10.900752 ]\n",
      " [-12.408775  -16.407177  -21.122929  -23.722897  -29.05627  ]\n",
      " [-30.356455  -37.264324  -39.143368  -42.43216   -47.382835 ]\n",
      " [-54.485344  -57.738228  -61.025307  -67.26463   -69.467186 ]\n",
      " [-74.74298   -79.4379    -83.56601   -88.67933   -95.86717  ]], shape=(5, 5), dtype=float32)\n"
     ]
    }
   ],
   "source": [
    "print(\"random_tensor - prime_tensor =\")\n",
    "print(tf.subtract(random_tensor,prime_tensor))"
   ]
  },
  {
   "cell_type": "markdown",
   "id": "aa1fe78d-1762-488e-829b-7e3c93b56665",
   "metadata": {},
   "source": [
    "### Perkalian"
   ]
  },
  {
   "cell_type": "code",
   "execution_count": 7,
   "id": "3c847c2b-2509-407f-b2b9-e7305b319dc1",
   "metadata": {},
   "outputs": [
    {
     "name": "stdout",
     "output_type": "stream",
     "text": [
      "random_tensor x prime_tensor =\n",
      "tf.Tensor(\n",
      "[[  -1.6226364     4.4537964     0.32664686  -17.09893       1.0917324 ]\n",
      " [   7.685916     10.077991    -40.335663    -16.626637     -1.6318411 ]\n",
      " [  19.949888     -9.77999      76.12196      24.417194    -17.993286  ]\n",
      " [ -78.7232       74.444496     -1.5436709   -17.73019     108.82978   ]\n",
      " [-127.237335    -34.593544    -46.97883      28.539564    109.884605  ]], shape=(5, 5), dtype=float32)\n"
     ]
    }
   ],
   "source": [
    "print(\"random_tensor x prime_tensor =\")\n",
    "print(tf.multiply(random_tensor,prime_tensor))"
   ]
  },
  {
   "cell_type": "markdown",
   "id": "d6b8243b-91eb-40db-b476-a705d790a4b0",
   "metadata": {},
   "source": [
    "### Pembagian"
   ]
  },
  {
   "cell_type": "code",
   "execution_count": 8,
   "id": "1134db5b-36a7-470c-8c82-cfd6ae58915a",
   "metadata": {},
   "outputs": [
    {
     "name": "stdout",
     "output_type": "stream",
     "text": [
      "random_tensor : prime_tensor =\n",
      "tf.Tensor(\n",
      "[[-4.0565911e-01  4.9486625e-01  1.3065875e-02 -3.4895775e-01\n",
      "   9.0225823e-03]\n",
      " [ 4.5478795e-02  3.4871940e-02 -1.1173314e-01 -3.1430315e-02\n",
      "  -1.9403580e-03]\n",
      " [ 2.0759510e-02 -7.1438937e-03  4.5283735e-02  1.3205621e-02\n",
      "  -8.1454450e-03]\n",
      " [-2.8025346e-02  2.1385951e-02 -4.1485377e-04 -3.9496967e-03\n",
      "   2.1588927e-02]\n",
      " [-2.3876399e-02 -5.5429488e-03 -6.8193977e-03  3.6030253e-03\n",
      "   1.1678670e-02]], shape=(5, 5), dtype=float32)\n"
     ]
    }
   ],
   "source": [
    "print(\"random_tensor : prime_tensor =\")\n",
    "print(tf.divide(random_tensor,prime_tensor))"
   ]
  },
  {
   "cell_type": "markdown",
   "id": "926a975c-a679-4459-90fe-1c0699be681d",
   "metadata": {},
   "source": [
    "### Pangkat"
   ]
  },
  {
   "cell_type": "code",
   "execution_count": 9,
   "id": "2a2cc69a-cd37-4f46-bd3a-8d2ffe2691f7",
   "metadata": {},
   "outputs": [
    {
     "name": "stdout",
     "output_type": "stream",
     "text": [
      "random_tensor^prime_tensor =\n",
      "tf.Tensor(\n",
      "[[ 6.5823728e-01  3.2721055e+00  1.1899876e-06 -5.1891492e+02\n",
      "   9.2036214e-12]\n",
      " [ 1.0783996e-03  1.3795117e-04 -1.6284565e+06 -5.7380047e-04\n",
      "  -5.7294839e-37]\n",
      " [ 1.1639711e-06 -4.1596646e-22  1.0417667e+11  2.7025481e-11\n",
      "  -2.5211261e-20]\n",
      " [-1.2788605e+09  9.0751462e+05 -0.0000000e+00 -0.0000000e+00\n",
      "   1.4782479e+13]\n",
      " [-4.1142766e+17 -4.6565877e-29 -3.0507073e-21  0.0000000e+00\n",
      "   1.7948009e+05]], shape=(5, 5), dtype=float32)\n"
     ]
    }
   ],
   "source": [
    "print(\"random_tensor^prime_tensor =\")\n",
    "print(tf.pow(random_tensor,prime_tensor))"
   ]
  },
  {
   "cell_type": "markdown",
   "id": "71b928f8-c270-406d-8c94-cb2a46d9d98b",
   "metadata": {},
   "source": [
    "## Menampilkan Nilai Maksimal dan Minimal"
   ]
  },
  {
   "cell_type": "code",
   "execution_count": 10,
   "id": "b0d34c06-224d-450d-b618-6c309ae8bdb8",
   "metadata": {},
   "outputs": [
    {
     "name": "stdout",
     "output_type": "stream",
     "text": [
      "Nilai max dan min berdasarkan kolom\n",
      "Nilai Maksimal random_tensor = tf.Tensor([2 0 2 2 3], shape=(5,), dtype=int64)\n",
      "Nilai Minimal random_tensor = tf.Tensor([4 4 1 0 2], shape=(5,), dtype=int64)\n",
      "\n",
      "\n",
      "Nilai max dan min berdasarkan baris\n",
      "Nilai Maksimal random_tensor = tf.Tensor([1 1 2 4 4], shape=(5,), dtype=int64)\n",
      "Nilai Minimal random_tensor = tf.Tensor([3 2 4 0 0], shape=(5,), dtype=int64)\n"
     ]
    }
   ],
   "source": [
    "print(\"Nilai max dan min berdasarkan kolom\")\n",
    "print(\"Nilai Maksimal random_tensor =\",tf.argmax(random_tensor,axis=0))\n",
    "print(\"Nilai Minimal random_tensor =\",tf.argmin(random_tensor,axis=0))\n",
    "print(\"\\n\")\n",
    "print(\"Nilai max dan min berdasarkan baris\")\n",
    "print(\"Nilai Maksimal random_tensor =\",tf.argmax(random_tensor,axis=1))\n",
    "print(\"Nilai Minimal random_tensor =\",tf.argmin(random_tensor,axis=1))"
   ]
  },
  {
   "cell_type": "markdown",
   "id": "cbeb6a29-2486-4510-9ee3-cacb99589ca3",
   "metadata": {},
   "source": [
    "## Concatenation"
   ]
  },
  {
   "cell_type": "code",
   "execution_count": 11,
   "id": "194754d0-6b48-498b-904a-dfe7d76278cd",
   "metadata": {},
   "outputs": [
    {
     "name": "stdout",
     "output_type": "stream",
     "text": [
      "Penggabungan Berdasarkan Kolom\n"
     ]
    },
    {
     "data": {
      "text/plain": [
       "<tf.Tensor: shape=(10, 5), dtype=float32, numpy=\n",
       "array([[-8.1131822e-01,  1.4845988e+00,  6.5329373e-02, -2.4427042e+00,\n",
       "         9.9248402e-02],\n",
       "       [ 5.9122431e-01,  5.9282297e-01, -2.1229296e+00, -7.2289723e-01,\n",
       "        -5.6270380e-02],\n",
       "       [ 6.4354479e-01, -2.6432407e-01,  1.8566332e+00,  5.6784171e-01,\n",
       "        -3.8283589e-01],\n",
       "       [-1.4853433e+00,  1.2617711e+00, -2.5306080e-02, -2.6462969e-01,\n",
       "         1.5328138e+00],\n",
       "       [-1.7429771e+00, -4.3789294e-01, -5.6601000e-01,  3.2066926e-01,\n",
       "         1.1328310e+00],\n",
       "       [ 2.0000000e+00,  3.0000000e+00,  5.0000000e+00,  7.0000000e+00,\n",
       "         1.1000000e+01],\n",
       "       [ 1.3000000e+01,  1.7000000e+01,  1.9000000e+01,  2.3000000e+01,\n",
       "         2.9000000e+01],\n",
       "       [ 3.1000000e+01,  3.7000000e+01,  4.1000000e+01,  4.3000000e+01,\n",
       "         4.7000000e+01],\n",
       "       [ 5.3000000e+01,  5.9000000e+01,  6.1000000e+01,  6.7000000e+01,\n",
       "         7.1000000e+01],\n",
       "       [ 7.3000000e+01,  7.9000000e+01,  8.3000000e+01,  8.9000000e+01,\n",
       "         9.7000000e+01]], dtype=float32)>"
      ]
     },
     "execution_count": 11,
     "metadata": {},
     "output_type": "execute_result"
    }
   ],
   "source": [
    "print(\"Penggabungan Berdasarkan Kolom\")\n",
    "con_col = tf.concat([random_tensor,prime_tensor],axis=0)\n",
    "con_col"
   ]
  },
  {
   "cell_type": "code",
   "execution_count": 12,
   "id": "b63f7e11-0076-47d5-a432-ae1155ef6dd0",
   "metadata": {},
   "outputs": [
    {
     "name": "stdout",
     "output_type": "stream",
     "text": [
      "Penggabungan Berdasarkan Baris\n"
     ]
    },
    {
     "data": {
      "text/plain": [
       "<tf.Tensor: shape=(5, 10), dtype=float32, numpy=\n",
       "array([[-8.1131822e-01,  1.4845988e+00,  6.5329373e-02, -2.4427042e+00,\n",
       "         9.9248402e-02,  2.0000000e+00,  3.0000000e+00,  5.0000000e+00,\n",
       "         7.0000000e+00,  1.1000000e+01],\n",
       "       [ 5.9122431e-01,  5.9282297e-01, -2.1229296e+00, -7.2289723e-01,\n",
       "        -5.6270380e-02,  1.3000000e+01,  1.7000000e+01,  1.9000000e+01,\n",
       "         2.3000000e+01,  2.9000000e+01],\n",
       "       [ 6.4354479e-01, -2.6432407e-01,  1.8566332e+00,  5.6784171e-01,\n",
       "        -3.8283589e-01,  3.1000000e+01,  3.7000000e+01,  4.1000000e+01,\n",
       "         4.3000000e+01,  4.7000000e+01],\n",
       "       [-1.4853433e+00,  1.2617711e+00, -2.5306080e-02, -2.6462969e-01,\n",
       "         1.5328138e+00,  5.3000000e+01,  5.9000000e+01,  6.1000000e+01,\n",
       "         6.7000000e+01,  7.1000000e+01],\n",
       "       [-1.7429771e+00, -4.3789294e-01, -5.6601000e-01,  3.2066926e-01,\n",
       "         1.1328310e+00,  7.3000000e+01,  7.9000000e+01,  8.3000000e+01,\n",
       "         8.9000000e+01,  9.7000000e+01]], dtype=float32)>"
      ]
     },
     "execution_count": 12,
     "metadata": {},
     "output_type": "execute_result"
    }
   ],
   "source": [
    "print(\"Penggabungan Berdasarkan Baris\")\n",
    "con_row = tf.concat([random_tensor,prime_tensor],axis=1)\n",
    "con_row"
   ]
  },
  {
   "cell_type": "markdown",
   "id": "821bc8a8-7611-4457-99d8-8a4995c72cbb",
   "metadata": {},
   "source": [
    "## Sorting"
   ]
  },
  {
   "cell_type": "code",
   "execution_count": 13,
   "id": "f2550f58-4fd9-4734-8d89-f4e04bdedf74",
   "metadata": {},
   "outputs": [
    {
     "name": "stdout",
     "output_type": "stream",
     "text": [
      "Sorting random_tensor Descending\n",
      "tf.Tensor(\n",
      "[[ 1.4845988   0.0992484   0.06532937 -0.8113182  -2.4427042 ]\n",
      " [ 0.59282297  0.5912243  -0.05627038 -0.72289723 -2.1229296 ]\n",
      " [ 1.8566332   0.6435448   0.5678417  -0.26432407 -0.3828359 ]\n",
      " [ 1.5328138   1.2617711  -0.02530608 -0.2646297  -1.4853433 ]\n",
      " [ 1.132831    0.32066926 -0.43789294 -0.56601    -1.7429771 ]], shape=(5, 5), dtype=float32)\n",
      "\n",
      "\n",
      "Sorting prime_tensor Descending\n",
      "tf.Tensor(\n",
      "[[11.  7.  5.  3.  2.]\n",
      " [29. 23. 19. 17. 13.]\n",
      " [47. 43. 41. 37. 31.]\n",
      " [71. 67. 61. 59. 53.]\n",
      " [97. 89. 83. 79. 73.]], shape=(5, 5), dtype=float32)\n"
     ]
    }
   ],
   "source": [
    "print(\"Sorting random_tensor Descending\")\n",
    "print(tf.sort(random_tensor,direction=\"DESCENDING\"))\n",
    "print(\"\\n\")\n",
    "print(\"Sorting prime_tensor Descending\")\n",
    "print(tf.sort(prime_tensor,direction=\"DESCENDING\"))"
   ]
  }
 ],
 "metadata": {
  "kernelspec": {
   "display_name": "Python 3 (ipykernel)",
   "language": "python",
   "name": "python3"
  },
  "language_info": {
   "codemirror_mode": {
    "name": "ipython",
    "version": 3
   },
   "file_extension": ".py",
   "mimetype": "text/x-python",
   "name": "python",
   "nbconvert_exporter": "python",
   "pygments_lexer": "ipython3",
   "version": "3.10.7"
  }
 },
 "nbformat": 4,
 "nbformat_minor": 5
}
