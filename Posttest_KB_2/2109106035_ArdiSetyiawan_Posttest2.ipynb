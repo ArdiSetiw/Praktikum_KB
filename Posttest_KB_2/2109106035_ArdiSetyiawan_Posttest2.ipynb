{
 "cells": [
  {
   "cell_type": "markdown",
   "id": "9a9921c5-2837-49de-be47-a2cdb3cb7aa5",
   "metadata": {},
   "source": [
    "## Mengimport Pandas dan Membaca CSV file"
   ]
  },
  {
   "cell_type": "code",
   "execution_count": 1,
   "id": "c45c46c9-d717-45fc-82e5-a2fb489624db",
   "metadata": {},
   "outputs": [],
   "source": [
    "import pandas as pd"
   ]
  },
  {
   "cell_type": "code",
   "execution_count": 2,
   "id": "2b8799a6-eff3-4973-8ad4-3ec6046343a2",
   "metadata": {},
   "outputs": [],
   "source": [
    "df = pd.read_csv(\"final_cars_datasets.csv\")"
   ]
  },
  {
   "cell_type": "markdown",
   "id": "93477a14-81fc-4de9-b8cd-c9e488e1b6c9",
   "metadata": {},
   "source": [
    "## Dictionary dari Informasi-informasi yang didapat"
   ]
  },
  {
   "cell_type": "code",
   "execution_count": 3,
   "id": "a7f2e3ed-3963-4aeb-b8b0-364e0ecaf9e2",
   "metadata": {},
   "outputs": [],
   "source": [
    "dict_info = {}\n",
    "\n",
    "dict_info[\"Jumlah Record\"] = df.shape\n",
    "dict_info[\"Nama_Attribute\"] = list(df.columns)\n",
    "dict_info[\"Attribute_Objek\"] = list(df.select_dtypes(object))\n",
    "dict_info[\"Attribute_Angka\"] = list(df.select_dtypes(int,float).columns)\n",
    "\n",
    "temp_dict = dict(df.isnull().any())\n",
    "null_A = []\n",
    "for key in temp_dict :\n",
    "    if temp_dict[key] == True:\n",
    "        null_A.append(key)\n",
    "null_A\n",
    "dict_info[\"Attribute_Null\"]  = null_A"
   ]
  },
  {
   "cell_type": "markdown",
   "id": "0d959256-76f7-4a1e-9403-143647b0dde4",
   "metadata": {},
   "source": [
    "## Jumlah Record"
   ]
  },
  {
   "cell_type": "code",
   "execution_count": 4,
   "id": "3fe0e872-6c6d-458c-b074-a935907f9372",
   "metadata": {},
   "outputs": [
    {
     "name": "stdout",
     "output_type": "stream",
     "text": [
      "Jumlah Record : (2318, 11)\n"
     ]
    }
   ],
   "source": [
    "print(\"Jumlah Record :\",dict_info[\"Jumlah Record\"])"
   ]
  },
  {
   "cell_type": "markdown",
   "id": "b3b800fb-9648-4925-9544-c6a32d868ba5",
   "metadata": {},
   "source": [
    "## Nama Attributes"
   ]
  },
  {
   "cell_type": "code",
   "execution_count": 5,
   "id": "bd45d8e3-b128-4e9f-a743-70ea3865ed36",
   "metadata": {},
   "outputs": [
    {
     "name": "stdout",
     "output_type": "stream",
     "text": [
      "Nama Attribute :\n",
      "1.Unnamed: 0\n",
      "2.price\n",
      "3.mark\n",
      "4.model\n",
      "5.year\n",
      "6.mileage\n",
      "7.engine_capacity\n",
      "8.transmission\n",
      "9.drive\n",
      "10.hand_drive\n",
      "11.fuel\n"
     ]
    }
   ],
   "source": [
    "print(\"Nama Attribute :\")\n",
    "\n",
    "num = 1\n",
    "for value in dict_info[\"Nama_Attribute\"] :\n",
    "    print(f\"{num}.{value}\")\n",
    "    num += 1"
   ]
  },
  {
   "cell_type": "markdown",
   "id": "da9614f7-f7e9-418c-8bbe-43518e198a34",
   "metadata": {},
   "source": [
    "## Attributes Objek dan Jumlahnya"
   ]
  },
  {
   "cell_type": "code",
   "execution_count": 6,
   "id": "867a79d8-93b8-417b-822b-0712556803ac",
   "metadata": {},
   "outputs": [
    {
     "name": "stdout",
     "output_type": "stream",
     "text": [
      "Attribute Objek :\n",
      "1.mark\n",
      "2.model\n",
      "3.transmission\n",
      "4.drive\n",
      "5.hand_drive\n",
      "6.fuel\n",
      "\n",
      "Jumlah Attribute Objek : 6\n"
     ]
    }
   ],
   "source": [
    "print(\"Attribute Objek :\")\n",
    "\n",
    "num = 1\n",
    "for value in dict_info[\"Attribute_Objek\"] :\n",
    "    print(f\"{num}.{value}\")\n",
    "    num += 1\n",
    "\n",
    "print(\"\\nJumlah Attribute Objek :\",len(dict_info[\"Attribute_Objek\"]))"
   ]
  },
  {
   "cell_type": "markdown",
   "id": "25335d0a-1914-48d5-9444-1bc2a7fe1205",
   "metadata": {},
   "source": [
    "## Attributes Angka dan Jumlahnya"
   ]
  },
  {
   "cell_type": "code",
   "execution_count": 7,
   "id": "bfe2dd95-0ad3-4ed3-bd31-1056e808400b",
   "metadata": {},
   "outputs": [
    {
     "name": "stdout",
     "output_type": "stream",
     "text": [
      "Attribute Angka :\n",
      "1.Unnamed: 0\n",
      "2.price\n",
      "3.year\n",
      "4.mileage\n",
      "5.engine_capacity\n",
      "\n",
      "Jumlah Attribute Angka : 5\n"
     ]
    }
   ],
   "source": [
    "print(\"Attribute Angka :\")\n",
    "\n",
    "num = 1\n",
    "for value in dict_info[\"Attribute_Angka\"] :\n",
    "    print(f\"{num}.{value}\")\n",
    "    num += 1\n",
    "\n",
    "print(\"\\nJumlah Attribute Angka :\",len(dict_info[\"Attribute_Angka\"]))"
   ]
  },
  {
   "cell_type": "markdown",
   "id": "57342ca1-486b-44f1-84dc-a27e74db24e3",
   "metadata": {},
   "source": [
    "## Attributes Null dan Jumlahnya"
   ]
  },
  {
   "cell_type": "code",
   "execution_count": 8,
   "id": "f0610447-ab65-4fb1-93ad-ef7ac484803d",
   "metadata": {},
   "outputs": [
    {
     "name": "stdout",
     "output_type": "stream",
     "text": [
      "Attribute Null :\n",
      "\n",
      "Jumlah Attribute Null : 0\n"
     ]
    }
   ],
   "source": [
    "print(\"Attribute Null :\")\n",
    "\n",
    "num = 1\n",
    "for value in dict_info[\"Attribute_Null\"] :\n",
    "    print(f\"{num}.{value}\")\n",
    "    num += 1\n",
    "\n",
    "print(\"\\nJumlah Attribute Null :\",len(dict_info[\"Attribute_Null\"]))"
   ]
  },
  {
   "cell_type": "markdown",
   "id": "432b603a-d834-48c9-a5e1-063357121752",
   "metadata": {},
   "source": [
    "## Menampilkan Rata-rata,std,nilai min, nilai max, Q1, Q2, Q3 dari attribute Angka"
   ]
  },
  {
   "cell_type": "code",
   "execution_count": 9,
   "id": "bb1332fc-6dbb-466f-b29d-52ba17eef5b3",
   "metadata": {},
   "outputs": [
    {
     "data": {
      "text/html": [
       "<div>\n",
       "<style scoped>\n",
       "    .dataframe tbody tr th:only-of-type {\n",
       "        vertical-align: middle;\n",
       "    }\n",
       "\n",
       "    .dataframe tbody tr th {\n",
       "        vertical-align: top;\n",
       "    }\n",
       "\n",
       "    .dataframe thead th {\n",
       "        text-align: right;\n",
       "    }\n",
       "</style>\n",
       "<table border=\"1\" class=\"dataframe\">\n",
       "  <thead>\n",
       "    <tr style=\"text-align: right;\">\n",
       "      <th></th>\n",
       "      <th>Unnamed: 0</th>\n",
       "      <th>price</th>\n",
       "      <th>year</th>\n",
       "      <th>mileage</th>\n",
       "      <th>engine_capacity</th>\n",
       "    </tr>\n",
       "  </thead>\n",
       "  <tbody>\n",
       "    <tr>\n",
       "      <th>count</th>\n",
       "      <td>2318.000000</td>\n",
       "      <td>2318.000000</td>\n",
       "      <td>2318.000000</td>\n",
       "      <td>2318.000000</td>\n",
       "      <td>2318.000000</td>\n",
       "    </tr>\n",
       "    <tr>\n",
       "      <th>mean</th>\n",
       "      <td>1169.047023</td>\n",
       "      <td>971.522433</td>\n",
       "      <td>2005.972390</td>\n",
       "      <td>100013.194996</td>\n",
       "      <td>1507.010785</td>\n",
       "    </tr>\n",
       "    <tr>\n",
       "      <th>std</th>\n",
       "      <td>674.460724</td>\n",
       "      <td>288.673112</td>\n",
       "      <td>3.698863</td>\n",
       "      <td>52512.478883</td>\n",
       "      <td>549.585170</td>\n",
       "    </tr>\n",
       "    <tr>\n",
       "      <th>min</th>\n",
       "      <td>0.000000</td>\n",
       "      <td>80.000000</td>\n",
       "      <td>1979.000000</td>\n",
       "      <td>2000.000000</td>\n",
       "      <td>9.000000</td>\n",
       "    </tr>\n",
       "    <tr>\n",
       "      <th>25%</th>\n",
       "      <td>583.250000</td>\n",
       "      <td>776.000000</td>\n",
       "      <td>2004.000000</td>\n",
       "      <td>67000.000000</td>\n",
       "      <td>1300.000000</td>\n",
       "    </tr>\n",
       "    <tr>\n",
       "      <th>50%</th>\n",
       "      <td>1168.500000</td>\n",
       "      <td>1000.000000</td>\n",
       "      <td>2006.000000</td>\n",
       "      <td>94000.000000</td>\n",
       "      <td>1490.000000</td>\n",
       "    </tr>\n",
       "    <tr>\n",
       "      <th>75%</th>\n",
       "      <td>1753.750000</td>\n",
       "      <td>1213.000000</td>\n",
       "      <td>2009.000000</td>\n",
       "      <td>124000.000000</td>\n",
       "      <td>1800.000000</td>\n",
       "    </tr>\n",
       "    <tr>\n",
       "      <th>max</th>\n",
       "      <td>2335.000000</td>\n",
       "      <td>1400.000000</td>\n",
       "      <td>2015.000000</td>\n",
       "      <td>790000.000000</td>\n",
       "      <td>12340.000000</td>\n",
       "    </tr>\n",
       "  </tbody>\n",
       "</table>\n",
       "</div>"
      ],
      "text/plain": [
       "        Unnamed: 0        price         year        mileage  engine_capacity\n",
       "count  2318.000000  2318.000000  2318.000000    2318.000000      2318.000000\n",
       "mean   1169.047023   971.522433  2005.972390  100013.194996      1507.010785\n",
       "std     674.460724   288.673112     3.698863   52512.478883       549.585170\n",
       "min       0.000000    80.000000  1979.000000    2000.000000         9.000000\n",
       "25%     583.250000   776.000000  2004.000000   67000.000000      1300.000000\n",
       "50%    1168.500000  1000.000000  2006.000000   94000.000000      1490.000000\n",
       "75%    1753.750000  1213.000000  2009.000000  124000.000000      1800.000000\n",
       "max    2335.000000  1400.000000  2015.000000  790000.000000     12340.000000"
      ]
     },
     "execution_count": 9,
     "metadata": {},
     "output_type": "execute_result"
    }
   ],
   "source": [
    "df.describe()"
   ]
  },
  {
   "cell_type": "markdown",
   "id": "5de8387a-6ac7-4ca6-a47e-a8c03ca81d9c",
   "metadata": {},
   "source": [
    "## Nilai Kolerasi"
   ]
  },
  {
   "cell_type": "code",
   "execution_count": 10,
   "id": "5f35f296-e8a8-42d0-982a-8d6ac4478fe1",
   "metadata": {},
   "outputs": [
    {
     "name": "stderr",
     "output_type": "stream",
     "text": [
      "C:\\Users\\Ardi Setyiawan\\AppData\\Local\\Temp\\ipykernel_12716\\1134722465.py:1: FutureWarning: The default value of numeric_only in DataFrame.corr is deprecated. In a future version, it will default to False. Select only valid columns or specify the value of numeric_only to silence this warning.\n",
      "  df.corr()\n"
     ]
    },
    {
     "data": {
      "text/html": [
       "<div>\n",
       "<style scoped>\n",
       "    .dataframe tbody tr th:only-of-type {\n",
       "        vertical-align: middle;\n",
       "    }\n",
       "\n",
       "    .dataframe tbody tr th {\n",
       "        vertical-align: top;\n",
       "    }\n",
       "\n",
       "    .dataframe thead th {\n",
       "        text-align: right;\n",
       "    }\n",
       "</style>\n",
       "<table border=\"1\" class=\"dataframe\">\n",
       "  <thead>\n",
       "    <tr style=\"text-align: right;\">\n",
       "      <th></th>\n",
       "      <th>Unnamed: 0</th>\n",
       "      <th>price</th>\n",
       "      <th>year</th>\n",
       "      <th>mileage</th>\n",
       "      <th>engine_capacity</th>\n",
       "    </tr>\n",
       "  </thead>\n",
       "  <tbody>\n",
       "    <tr>\n",
       "      <th>Unnamed: 0</th>\n",
       "      <td>1.000000</td>\n",
       "      <td>0.985100</td>\n",
       "      <td>-0.188326</td>\n",
       "      <td>0.028091</td>\n",
       "      <td>0.169773</td>\n",
       "    </tr>\n",
       "    <tr>\n",
       "      <th>price</th>\n",
       "      <td>0.985100</td>\n",
       "      <td>1.000000</td>\n",
       "      <td>-0.211092</td>\n",
       "      <td>0.021581</td>\n",
       "      <td>0.173748</td>\n",
       "    </tr>\n",
       "    <tr>\n",
       "      <th>year</th>\n",
       "      <td>-0.188326</td>\n",
       "      <td>-0.211092</td>\n",
       "      <td>1.000000</td>\n",
       "      <td>0.086065</td>\n",
       "      <td>-0.142460</td>\n",
       "    </tr>\n",
       "    <tr>\n",
       "      <th>mileage</th>\n",
       "      <td>0.028091</td>\n",
       "      <td>0.021581</td>\n",
       "      <td>0.086065</td>\n",
       "      <td>1.000000</td>\n",
       "      <td>0.130362</td>\n",
       "    </tr>\n",
       "    <tr>\n",
       "      <th>engine_capacity</th>\n",
       "      <td>0.169773</td>\n",
       "      <td>0.173748</td>\n",
       "      <td>-0.142460</td>\n",
       "      <td>0.130362</td>\n",
       "      <td>1.000000</td>\n",
       "    </tr>\n",
       "  </tbody>\n",
       "</table>\n",
       "</div>"
      ],
      "text/plain": [
       "                 Unnamed: 0     price      year   mileage  engine_capacity\n",
       "Unnamed: 0         1.000000  0.985100 -0.188326  0.028091         0.169773\n",
       "price              0.985100  1.000000 -0.211092  0.021581         0.173748\n",
       "year              -0.188326 -0.211092  1.000000  0.086065        -0.142460\n",
       "mileage            0.028091  0.021581  0.086065  1.000000         0.130362\n",
       "engine_capacity    0.169773  0.173748 -0.142460  0.130362         1.000000"
      ]
     },
     "execution_count": 10,
     "metadata": {},
     "output_type": "execute_result"
    }
   ],
   "source": [
    "df.corr()"
   ]
  },
  {
   "cell_type": "markdown",
   "id": "5ee249da-07b2-41a4-afb9-a36f158d881a",
   "metadata": {},
   "source": [
    "## Mengganti tipe data"
   ]
  },
  {
   "cell_type": "markdown",
   "id": "ef67de46-e9e3-4ef2-a89d-04f08fd99752",
   "metadata": {},
   "source": [
    "<b>Sebelum</b>"
   ]
  },
  {
   "cell_type": "code",
   "execution_count": 11,
   "id": "11d33105-d2e7-4b2e-b573-96f4489b07e4",
   "metadata": {},
   "outputs": [
    {
     "data": {
      "text/plain": [
       "Unnamed: 0          int64\n",
       "price               int64\n",
       "mark               object\n",
       "model              object\n",
       "year                int64\n",
       "mileage             int64\n",
       "engine_capacity     int64\n",
       "transmission       object\n",
       "drive              object\n",
       "hand_drive         object\n",
       "fuel               object\n",
       "dtype: object"
      ]
     },
     "execution_count": 11,
     "metadata": {},
     "output_type": "execute_result"
    }
   ],
   "source": [
    "df.dtypes"
   ]
  },
  {
   "cell_type": "code",
   "execution_count": 12,
   "id": "8edb0c7e-6b9b-4c94-b43e-530487b801bb",
   "metadata": {},
   "outputs": [
    {
     "data": {
      "text/html": [
       "<div>\n",
       "<style scoped>\n",
       "    .dataframe tbody tr th:only-of-type {\n",
       "        vertical-align: middle;\n",
       "    }\n",
       "\n",
       "    .dataframe tbody tr th {\n",
       "        vertical-align: top;\n",
       "    }\n",
       "\n",
       "    .dataframe thead th {\n",
       "        text-align: right;\n",
       "    }\n",
       "</style>\n",
       "<table border=\"1\" class=\"dataframe\">\n",
       "  <thead>\n",
       "    <tr style=\"text-align: right;\">\n",
       "      <th></th>\n",
       "      <th>Unnamed: 0</th>\n",
       "      <th>price</th>\n",
       "      <th>mark</th>\n",
       "      <th>model</th>\n",
       "      <th>year</th>\n",
       "      <th>mileage</th>\n",
       "      <th>engine_capacity</th>\n",
       "      <th>transmission</th>\n",
       "      <th>drive</th>\n",
       "      <th>hand_drive</th>\n",
       "      <th>fuel</th>\n",
       "    </tr>\n",
       "  </thead>\n",
       "  <tbody>\n",
       "    <tr>\n",
       "      <th>0</th>\n",
       "      <td>0</td>\n",
       "      <td>80.0</td>\n",
       "      <td>nissan</td>\n",
       "      <td>march</td>\n",
       "      <td>2003</td>\n",
       "      <td>80000</td>\n",
       "      <td>1240</td>\n",
       "      <td>at</td>\n",
       "      <td>2wd</td>\n",
       "      <td>rhd</td>\n",
       "      <td>gasoline</td>\n",
       "    </tr>\n",
       "    <tr>\n",
       "      <th>1</th>\n",
       "      <td>1</td>\n",
       "      <td>110.0</td>\n",
       "      <td>nissan</td>\n",
       "      <td>march</td>\n",
       "      <td>2010</td>\n",
       "      <td>53000</td>\n",
       "      <td>1200</td>\n",
       "      <td>at</td>\n",
       "      <td>2wd</td>\n",
       "      <td>rhd</td>\n",
       "      <td>gasoline</td>\n",
       "    </tr>\n",
       "    <tr>\n",
       "      <th>2</th>\n",
       "      <td>2</td>\n",
       "      <td>165.0</td>\n",
       "      <td>nissan</td>\n",
       "      <td>lafesta</td>\n",
       "      <td>2005</td>\n",
       "      <td>47690</td>\n",
       "      <td>2000</td>\n",
       "      <td>at</td>\n",
       "      <td>2wd</td>\n",
       "      <td>rhd</td>\n",
       "      <td>gasoline</td>\n",
       "    </tr>\n",
       "    <tr>\n",
       "      <th>3</th>\n",
       "      <td>3</td>\n",
       "      <td>190.0</td>\n",
       "      <td>toyota</td>\n",
       "      <td>avensis</td>\n",
       "      <td>2008</td>\n",
       "      <td>130661</td>\n",
       "      <td>1990</td>\n",
       "      <td>at</td>\n",
       "      <td>2wd</td>\n",
       "      <td>rhd</td>\n",
       "      <td>gasoline</td>\n",
       "    </tr>\n",
       "    <tr>\n",
       "      <th>4</th>\n",
       "      <td>4</td>\n",
       "      <td>190.0</td>\n",
       "      <td>daihatsu</td>\n",
       "      <td>mira</td>\n",
       "      <td>2006</td>\n",
       "      <td>66300</td>\n",
       "      <td>660</td>\n",
       "      <td>at</td>\n",
       "      <td>2wd</td>\n",
       "      <td>rhd</td>\n",
       "      <td>gasoline</td>\n",
       "    </tr>\n",
       "    <tr>\n",
       "      <th>...</th>\n",
       "      <td>...</td>\n",
       "      <td>...</td>\n",
       "      <td>...</td>\n",
       "      <td>...</td>\n",
       "      <td>...</td>\n",
       "      <td>...</td>\n",
       "      <td>...</td>\n",
       "      <td>...</td>\n",
       "      <td>...</td>\n",
       "      <td>...</td>\n",
       "      <td>...</td>\n",
       "    </tr>\n",
       "    <tr>\n",
       "      <th>2313</th>\n",
       "      <td>2331</td>\n",
       "      <td>1400.0</td>\n",
       "      <td>toyota</td>\n",
       "      <td>vitz</td>\n",
       "      <td>2009</td>\n",
       "      <td>121000</td>\n",
       "      <td>996</td>\n",
       "      <td>at</td>\n",
       "      <td>2wd</td>\n",
       "      <td>rhd</td>\n",
       "      <td>gasoline</td>\n",
       "    </tr>\n",
       "    <tr>\n",
       "      <th>2314</th>\n",
       "      <td>2332</td>\n",
       "      <td>1400.0</td>\n",
       "      <td>toyota</td>\n",
       "      <td>estima</td>\n",
       "      <td>2003</td>\n",
       "      <td>101000</td>\n",
       "      <td>3000</td>\n",
       "      <td>at</td>\n",
       "      <td>2wd</td>\n",
       "      <td>rhd</td>\n",
       "      <td>gasoline</td>\n",
       "    </tr>\n",
       "    <tr>\n",
       "      <th>2315</th>\n",
       "      <td>2333</td>\n",
       "      <td>1400.0</td>\n",
       "      <td>subaru</td>\n",
       "      <td>r2</td>\n",
       "      <td>2005</td>\n",
       "      <td>101000</td>\n",
       "      <td>660</td>\n",
       "      <td>cvt</td>\n",
       "      <td>2wd</td>\n",
       "      <td>rhd</td>\n",
       "      <td>gasoline</td>\n",
       "    </tr>\n",
       "    <tr>\n",
       "      <th>2316</th>\n",
       "      <td>2334</td>\n",
       "      <td>1400.0</td>\n",
       "      <td>honda</td>\n",
       "      <td>z</td>\n",
       "      <td>2000</td>\n",
       "      <td>170000</td>\n",
       "      <td>660</td>\n",
       "      <td>at</td>\n",
       "      <td>4wd</td>\n",
       "      <td>rhd</td>\n",
       "      <td>gasoline</td>\n",
       "    </tr>\n",
       "    <tr>\n",
       "      <th>2317</th>\n",
       "      <td>2335</td>\n",
       "      <td>1400.0</td>\n",
       "      <td>toyota</td>\n",
       "      <td>estima t</td>\n",
       "      <td>2005</td>\n",
       "      <td>72320</td>\n",
       "      <td>3000</td>\n",
       "      <td>at</td>\n",
       "      <td>2wd</td>\n",
       "      <td>rhd</td>\n",
       "      <td>gasoline</td>\n",
       "    </tr>\n",
       "  </tbody>\n",
       "</table>\n",
       "<p>2318 rows × 11 columns</p>\n",
       "</div>"
      ],
      "text/plain": [
       "      Unnamed: 0   price      mark     model  year  mileage  engine_capacity  \\\n",
       "0              0    80.0    nissan     march  2003    80000             1240   \n",
       "1              1   110.0    nissan     march  2010    53000             1200   \n",
       "2              2   165.0    nissan   lafesta  2005    47690             2000   \n",
       "3              3   190.0    toyota   avensis  2008   130661             1990   \n",
       "4              4   190.0  daihatsu      mira  2006    66300              660   \n",
       "...          ...     ...       ...       ...   ...      ...              ...   \n",
       "2313        2331  1400.0    toyota      vitz  2009   121000              996   \n",
       "2314        2332  1400.0    toyota    estima  2003   101000             3000   \n",
       "2315        2333  1400.0    subaru        r2  2005   101000              660   \n",
       "2316        2334  1400.0     honda         z  2000   170000              660   \n",
       "2317        2335  1400.0    toyota  estima t  2005    72320             3000   \n",
       "\n",
       "     transmission drive hand_drive      fuel  \n",
       "0              at   2wd        rhd  gasoline  \n",
       "1              at   2wd        rhd  gasoline  \n",
       "2              at   2wd        rhd  gasoline  \n",
       "3              at   2wd        rhd  gasoline  \n",
       "4              at   2wd        rhd  gasoline  \n",
       "...           ...   ...        ...       ...  \n",
       "2313           at   2wd        rhd  gasoline  \n",
       "2314           at   2wd        rhd  gasoline  \n",
       "2315          cvt   2wd        rhd  gasoline  \n",
       "2316           at   4wd        rhd  gasoline  \n",
       "2317           at   2wd        rhd  gasoline  \n",
       "\n",
       "[2318 rows x 11 columns]"
      ]
     },
     "execution_count": 12,
     "metadata": {},
     "output_type": "execute_result"
    }
   ],
   "source": [
    "df[\"price\"] = df[\"price\"].astype(\"float64\")\n",
    "df.round(decimals = 3)"
   ]
  },
  {
   "cell_type": "markdown",
   "id": "aaf0bd38-ff96-444c-90e9-af337795226d",
   "metadata": {},
   "source": [
    "<b>Sesudah</b>"
   ]
  },
  {
   "cell_type": "code",
   "execution_count": 13,
   "id": "fd9bf047-5b20-474e-9caa-bab7dd762785",
   "metadata": {},
   "outputs": [
    {
     "data": {
      "text/plain": [
       "Unnamed: 0           int64\n",
       "price              float64\n",
       "mark                object\n",
       "model               object\n",
       "year                 int64\n",
       "mileage              int64\n",
       "engine_capacity      int64\n",
       "transmission        object\n",
       "drive               object\n",
       "hand_drive          object\n",
       "fuel                object\n",
       "dtype: object"
      ]
     },
     "execution_count": 13,
     "metadata": {},
     "output_type": "execute_result"
    }
   ],
   "source": [
    "df.dtypes"
   ]
  },
  {
   "cell_type": "markdown",
   "id": "f339ded2-8e90-4f48-9a67-1192b111a436",
   "metadata": {},
   "source": [
    "## Menampilkan 10 Atrributes Bertipe Angka"
   ]
  },
  {
   "cell_type": "code",
   "execution_count": 14,
   "id": "8543d527-3980-487f-bb24-83a886e88d4c",
   "metadata": {},
   "outputs": [
    {
     "data": {
      "text/html": [
       "<div>\n",
       "<style scoped>\n",
       "    .dataframe tbody tr th:only-of-type {\n",
       "        vertical-align: middle;\n",
       "    }\n",
       "\n",
       "    .dataframe tbody tr th {\n",
       "        vertical-align: top;\n",
       "    }\n",
       "\n",
       "    .dataframe thead th {\n",
       "        text-align: right;\n",
       "    }\n",
       "</style>\n",
       "<table border=\"1\" class=\"dataframe\">\n",
       "  <thead>\n",
       "    <tr style=\"text-align: right;\">\n",
       "      <th></th>\n",
       "      <th>Unnamed: 0</th>\n",
       "      <th>price</th>\n",
       "      <th>year</th>\n",
       "      <th>mileage</th>\n",
       "      <th>engine_capacity</th>\n",
       "    </tr>\n",
       "  </thead>\n",
       "  <tbody>\n",
       "    <tr>\n",
       "      <th>0</th>\n",
       "      <td>0</td>\n",
       "      <td>80.0</td>\n",
       "      <td>2003</td>\n",
       "      <td>80000</td>\n",
       "      <td>1240</td>\n",
       "    </tr>\n",
       "    <tr>\n",
       "      <th>1</th>\n",
       "      <td>1</td>\n",
       "      <td>110.0</td>\n",
       "      <td>2010</td>\n",
       "      <td>53000</td>\n",
       "      <td>1200</td>\n",
       "    </tr>\n",
       "    <tr>\n",
       "      <th>2</th>\n",
       "      <td>2</td>\n",
       "      <td>165.0</td>\n",
       "      <td>2005</td>\n",
       "      <td>47690</td>\n",
       "      <td>2000</td>\n",
       "    </tr>\n",
       "    <tr>\n",
       "      <th>3</th>\n",
       "      <td>3</td>\n",
       "      <td>190.0</td>\n",
       "      <td>2008</td>\n",
       "      <td>130661</td>\n",
       "      <td>1990</td>\n",
       "    </tr>\n",
       "    <tr>\n",
       "      <th>4</th>\n",
       "      <td>4</td>\n",
       "      <td>190.0</td>\n",
       "      <td>2006</td>\n",
       "      <td>66300</td>\n",
       "      <td>660</td>\n",
       "    </tr>\n",
       "    <tr>\n",
       "      <th>5</th>\n",
       "      <td>5</td>\n",
       "      <td>190.0</td>\n",
       "      <td>2004</td>\n",
       "      <td>81400</td>\n",
       "      <td>660</td>\n",
       "    </tr>\n",
       "    <tr>\n",
       "      <th>6</th>\n",
       "      <td>8</td>\n",
       "      <td>220.0</td>\n",
       "      <td>2010</td>\n",
       "      <td>117000</td>\n",
       "      <td>1200</td>\n",
       "    </tr>\n",
       "    <tr>\n",
       "      <th>7</th>\n",
       "      <td>9</td>\n",
       "      <td>230.0</td>\n",
       "      <td>2008</td>\n",
       "      <td>127763</td>\n",
       "      <td>3190</td>\n",
       "    </tr>\n",
       "    <tr>\n",
       "      <th>8</th>\n",
       "      <td>10</td>\n",
       "      <td>275.0</td>\n",
       "      <td>2010</td>\n",
       "      <td>178218</td>\n",
       "      <td>1800</td>\n",
       "    </tr>\n",
       "    <tr>\n",
       "      <th>9</th>\n",
       "      <td>11</td>\n",
       "      <td>283.0</td>\n",
       "      <td>2005</td>\n",
       "      <td>121655</td>\n",
       "      <td>2000</td>\n",
       "    </tr>\n",
       "  </tbody>\n",
       "</table>\n",
       "</div>"
      ],
      "text/plain": [
       "   Unnamed: 0  price  year  mileage  engine_capacity\n",
       "0           0   80.0  2003    80000             1240\n",
       "1           1  110.0  2010    53000             1200\n",
       "2           2  165.0  2005    47690             2000\n",
       "3           3  190.0  2008   130661             1990\n",
       "4           4  190.0  2006    66300              660\n",
       "5           5  190.0  2004    81400              660\n",
       "6           8  220.0  2010   117000             1200\n",
       "7           9  230.0  2008   127763             3190\n",
       "8          10  275.0  2010   178218             1800\n",
       "9          11  283.0  2005   121655             2000"
      ]
     },
     "execution_count": 14,
     "metadata": {},
     "output_type": "execute_result"
    }
   ],
   "source": [
    "df.select_dtypes(exclude=object).head(10)"
   ]
  },
  {
   "cell_type": "markdown",
   "id": "2d0a9cef-0c0f-4966-a5dc-c7595dcf0f69",
   "metadata": {},
   "source": [
    "## Menyimpan Attribut Angka Ke CSV"
   ]
  },
  {
   "cell_type": "code",
   "execution_count": 16,
   "id": "43df74f5-797e-4e9d-937c-cc5ab1b976e6",
   "metadata": {},
   "outputs": [],
   "source": [
    "df.select_dtypes(exclude = object).to_csv(\"Attribute_Angka.csv\")"
   ]
  }
 ],
 "metadata": {
  "kernelspec": {
   "display_name": "Python 3 (ipykernel)",
   "language": "python",
   "name": "python3"
  },
  "language_info": {
   "codemirror_mode": {
    "name": "ipython",
    "version": 3
   },
   "file_extension": ".py",
   "mimetype": "text/x-python",
   "name": "python",
   "nbconvert_exporter": "python",
   "pygments_lexer": "ipython3",
   "version": "3.10.7"
  }
 },
 "nbformat": 4,
 "nbformat_minor": 5
}
